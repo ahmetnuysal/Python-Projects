{
 "cells": [
  {
   "cell_type": "code",
   "execution_count": 4,
   "id": "977ad34d",
   "metadata": {},
   "outputs": [
    {
     "ename": "SyntaxError",
     "evalue": "EOL while scanning string literal (3978129489.py, line 6)",
     "output_type": "error",
     "traceback": [
      "\u001b[1;36m  Input \u001b[1;32mIn [4]\u001b[1;36m\u001b[0m\n\u001b[1;33m    print(f\"{kilometre} kilometre aynı zamanda {mil}'dir')\u001b[0m\n\u001b[1;37m                                                          ^\u001b[0m\n\u001b[1;31mSyntaxError\u001b[0m\u001b[1;31m:\u001b[0m EOL while scanning string literal\n"
     ]
    }
   ],
   "source": [
    "kilometre = float(input(\"Kilometreyi Giriniz: \"))\n",
    "\n",
    "MilDegeri = 0.621371\n",
    "\n",
    "mil = kilometre * MilDegeri\n",
    "print(f\"{kilometre} kilometre aynı zamanda {mil}'dir\")"
   ]
  },
  {
   "cell_type": "code",
   "execution_count": null,
   "id": "eb581367",
   "metadata": {},
   "outputs": [],
   "source": []
  },
  {
   "cell_type": "code",
   "execution_count": null,
   "id": "4ce9e981",
   "metadata": {},
   "outputs": [],
   "source": []
  }
 ],
 "metadata": {
  "kernelspec": {
   "display_name": "Python 3 (ipykernel)",
   "language": "python",
   "name": "python3"
  },
  "language_info": {
   "codemirror_mode": {
    "name": "ipython",
    "version": 3
   },
   "file_extension": ".py",
   "mimetype": "text/x-python",
   "name": "python",
   "nbconvert_exporter": "python",
   "pygments_lexer": "ipython3",
   "version": "3.9.12"
  }
 },
 "nbformat": 4,
 "nbformat_minor": 5
}
